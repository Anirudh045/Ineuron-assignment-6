{
 "cells": [
  {
   "cell_type": "code",
   "execution_count": null,
   "id": "0fb8f952-9fe6-4e9c-acc1-7bc2e2a5bd4e",
   "metadata": {},
   "outputs": [],
   "source": []
  },
  {
   "cell_type": "raw",
   "id": "2fea8f37-cd33-4db1-8100-a2d04d10e075",
   "metadata": {},
   "source": [
    "1. What are escape characters, and how do you use them?\n",
    "A. /,//,/n,/r,/t etc. are the major escape characters.\n",
    "\n",
    "   /-- for ignoring the functionality of next character.\n",
    "   \n",
    "   //-- for printing one '/'(Backslash)\n",
    "   \n",
    "   /n-- for printing the things in the next line.\n",
    "   \n",
    "   /r --for printing the  characters or values present after the /r and ignoring the before values.\n",
    "   \n",
    "   /t--for tab space\n",
    "      "
   ]
  },
  {
   "cell_type": "code",
   "execution_count": null,
   "id": "155906bf-4f3b-47e4-af28-a75d89310ad5",
   "metadata": {},
   "outputs": [],
   "source": [
    "2. What do the escape characters n and t stand for?\n",
    "A. /n-- for printing the things in the next line.\n",
    "   /t--for tab space"
   ]
  },
  {
   "cell_type": "code",
   "execution_count": null,
   "id": "9d9d1d42-2440-4676-915c-b517960b9b54",
   "metadata": {},
   "outputs": [],
   "source": [
    "3. What is the way to include backslash characters in a string?\n",
    "A. //-- for printing one '/'(Backslash)"
   ]
  },
  {
   "cell_type": "code",
   "execution_count": null,
   "id": "e8db3886-cd90-4ada-9e6e-2a388a9fad11",
   "metadata": {},
   "outputs": [],
   "source": [
    "4. The string \"Howl's Moving Castle is a correct value. Why  the single quote character in the\n",
    "   word Howl's not escaped a problem?\n",
    "A. Since we have used the double quotes for the string and the word \"Howl's\" contains single quote.."
   ]
  },
  {
   "cell_type": "code",
   "execution_count": null,
   "id": "ed068486-2c70-4d08-9a53-352a30d83c10",
   "metadata": {},
   "outputs": [],
   "source": [
    "5. How do you write a string of newlines if you don't want to use the n character?\n",
    "A. "
   ]
  },
  {
   "cell_type": "raw",
   "id": "4b8ab5b7-2764-4ebd-a778-e3d3f315f1fe",
   "metadata": {},
   "source": [
    "6. What are the values of the given expressions?\n",
    "\n",
    "A. Hello, world![1]----- e\n",
    "   Hello, world![0:5]--- Hello\n",
    "   Hello, world![:5]---- Hello\n",
    "   Hello, world![3:]---- lo, world!\n",
    "\n",
    "\n",
    "\n",
    "\n",
    "\n",
    "\n",
    "\n",
    "\n",
    "\n",
    "\n",
    "\n"
   ]
  },
  {
   "cell_type": "code",
   "execution_count": null,
   "id": "4a3b92c9-3dd5-4e26-98b6-187f96b94ee6",
   "metadata": {},
   "outputs": [],
   "source": [
    "7. What are the values of the following expressions?\n",
    "   'Hello'.upper() ------   HELLO\n",
    "   'Hello'.upper().isupper()-----True\n",
    "   'Hello'.upper().lower()------False"
   ]
  },
  {
   "cell_type": "code",
   "execution_count": null,
   "id": "5349bbd4-58d2-41ae-abce-4c9949e5cce1",
   "metadata": {},
   "outputs": [],
   "source": [
    "8. What are the values of the following expressions?\n",
    "'Remember, remember, the fifth of July.'.split()----['Remember,', 'remember,', 'the', 'fifth', 'of', 'July.']\n",
    "'-'.join('There can only one'.split()) ------------- There-can-only-one"
   ]
  },
  {
   "cell_type": "code",
   "execution_count": null,
   "id": "fdadde70-d793-4a6c-9737-c1587cc8b377",
   "metadata": {},
   "outputs": [],
   "source": [
    "9. What are the methods for right-justifying, left-justifying, and centering a string?\n",
    "A. .center(len,fillchar)\n",
    "   .ljust(len,fillchar)\n",
    "   .rjust(len,fillchar)"
   ]
  },
  {
   "cell_type": "code",
   "execution_count": null,
   "id": "8024462f-b0d8-48c6-87f1-73b5fbcb4199",
   "metadata": {},
   "outputs": [],
   "source": [
    "10. What is the best way to remove whitespace characters from the start or end?\n",
    "A.  .strip() method is used to remove spaces for both ends."
   ]
  }
 ],
 "metadata": {
  "kernelspec": {
   "display_name": "Python 3 (ipykernel)",
   "language": "python",
   "name": "python3"
  },
  "language_info": {
   "codemirror_mode": {
    "name": "ipython",
    "version": 3
   },
   "file_extension": ".py",
   "mimetype": "text/x-python",
   "name": "python",
   "nbconvert_exporter": "python",
   "pygments_lexer": "ipython3",
   "version": "3.10.6"
  }
 },
 "nbformat": 4,
 "nbformat_minor": 5
}
